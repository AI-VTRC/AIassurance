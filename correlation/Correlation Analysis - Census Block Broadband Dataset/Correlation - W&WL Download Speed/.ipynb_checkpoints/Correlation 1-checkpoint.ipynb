{
 "cells": [
  {
   "cell_type": "markdown",
   "metadata": {},
   "source": [
    "### About:\n",
    "4/10/2021 Program calculate the correlation coefficient:\n",
    "\n",
    "    (1) between internet speeds\n",
    "    (2) between states\n",
    "    (3) between states & internet speeds??? -> Self Assigned\n",
    "\n",
    "@author: Minh Nguyen @AIA\n",
    "\n",
    "@credit: Qasim, Andrei @AIA"
   ]
  },
  {
   "cell_type": "code",
   "execution_count": 1,
   "metadata": {},
   "outputs": [],
   "source": [
    "import numpy as np\n",
    "from numpy.random import randn\n",
    "from numpy.random import seed\n",
    "from numpy import array_split\n",
    "import pandas as pd\n",
    "from sklearn import metrics as mt\n",
    "from sklearn import model_selection as md\n",
    "from matplotlib import pyplot as plt\n",
    "import seaborn as sns\n",
    "import sklearn.datasets as ds\n",
    "import random"
   ]
  },
  {
   "cell_type": "markdown",
   "metadata": {},
   "source": [
    "### Correlation Calculation"
   ]
  },
  {
   "cell_type": "code",
   "execution_count": 2,
   "metadata": {},
   "outputs": [],
   "source": [
    "def correlation_cal(df):\n",
    "    # Instead of just dropping the missing values, we will fill in N/A values\n",
    "    if df.isna().values.any():\n",
    "        while True:\n",
    "            missing_type = input(\"Please enter the type of missing value replacement: mean, medium, mode, or drop from the row\")\n",
    "            missing_type = missing_type.lower()\n",
    "            if(missing_type in ['mean', 'median', 'mode', 'drop']):\n",
    "                if(missing_type == 'mean'):\n",
    "                    df.fillna(df.mean(), inplace=True)\n",
    "                elif(missing_type == 'median'):\n",
    "                    df.fillna(df.median(), inplace=True)\n",
    "                elif(missing_type == 'mode'):\n",
    "                    df.fillna(df.mode(), inplace=True)\n",
    "                else:\n",
    "                    df.dropna()\n",
    "                break\n",
    "            else:\n",
    "                print(\"Please input the option from the list\")\n",
    "    \n",
    "    # Calculate input data correlation\n",
    "    while True:\n",
    "        corr_type = input(\"Please enter type of correlation: Pearson, Spearman, or Kendall: \")\n",
    "        corr_type = corr_type.lower()\n",
    "        if corr_type in ['pearson', 'spearman', 'kendall']:\n",
    "            break\n",
    "        else:\n",
    "            print(\"Please try again\")\n",
    "    \n",
    "    # Plot correlation matrix\n",
    "    corrMatrix = df.corr(method=corr_type)\n",
    "    _, ax = plt.subplots(figsize=(12, 10))\n",
    "    sns.heatmap(corrMatrix, ax = ax, cmap=\"gray\", linewidths = 0.1) # cmap can also be \"YlGnBu\""
   ]
  },
  {
   "cell_type": "markdown",
   "metadata": {},
   "source": [
    "### (1) Correlation Calculation Between Internet Speeds"
   ]
  },
  {
   "cell_type": "markdown",
   "metadata": {},
   "source": [
    "#### Preprocess Data"
   ]
  },
  {
   "cell_type": "code",
   "execution_count": 3,
   "metadata": {},
   "outputs": [
    {
     "name": "stdout",
     "output_type": "stream",
     "text": [
      "Original Dataset\n",
      "Untitled.ipynb\n",
      "preprocess_data.xlsx\n",
      "~$preprocess_data.xlsx\n"
     ]
    }
   ],
   "source": [
    "!ls"
   ]
  },
  {
   "cell_type": "code",
   "execution_count": 4,
   "metadata": {},
   "outputs": [],
   "source": [
    "def parse_data_bis(file):\n",
    "    \"\"\" Function load csv files into csv pandas by internet speed \n",
    "        Function parse data by internet speed for all 50 states + nation (row 0)\n",
    "    \"\"\"\n",
    "    dataset = pd.read_excel(file, skiprows=[0,1,2,3], usecols=[2,3,4,5,6,7,8,9,10])\n",
    "    return dataset"
   ]
  },
  {
   "cell_type": "code",
   "execution_count": 5,
   "metadata": {},
   "outputs": [],
   "source": [
    "df_bis = parse_data_bis(\"preprocess_data.xlsx\")"
   ]
  },
  {
   "cell_type": "code",
   "execution_count": 6,
   "metadata": {},
   "outputs": [
    {
     "data": {
      "text/html": [
       "<div>\n",
       "<style scoped>\n",
       "    .dataframe tbody tr th:only-of-type {\n",
       "        vertical-align: middle;\n",
       "    }\n",
       "\n",
       "    .dataframe tbody tr th {\n",
       "        vertical-align: top;\n",
       "    }\n",
       "\n",
       "    .dataframe thead th {\n",
       "        text-align: right;\n",
       "    }\n",
       "</style>\n",
       "<table border=\"1\" class=\"dataframe\">\n",
       "  <thead>\n",
       "    <tr style=\"text-align: right;\">\n",
       "      <th></th>\n",
       "      <th>≥ 786 kbps</th>\n",
       "      <th>≥ 1.5 mbps</th>\n",
       "      <th>≥ 3 mbps</th>\n",
       "      <th>≥ 6 mbps</th>\n",
       "      <th>≥ 10 mbps</th>\n",
       "      <th>≥ 25 mbps</th>\n",
       "      <th>≥ 50 mbps</th>\n",
       "      <th>≥ 100 mbps</th>\n",
       "      <th>≥ 1 gbps</th>\n",
       "    </tr>\n",
       "  </thead>\n",
       "  <tbody>\n",
       "    <tr>\n",
       "      <th>0</th>\n",
       "      <td>2172</td>\n",
       "      <td>2061</td>\n",
       "      <td>1902</td>\n",
       "      <td>1535</td>\n",
       "      <td>1257</td>\n",
       "      <td>724</td>\n",
       "      <td>554</td>\n",
       "      <td>375</td>\n",
       "      <td>160</td>\n",
       "    </tr>\n",
       "    <tr>\n",
       "      <th>1</th>\n",
       "      <td>22</td>\n",
       "      <td>19</td>\n",
       "      <td>18</td>\n",
       "      <td>15</td>\n",
       "      <td>11</td>\n",
       "      <td>5</td>\n",
       "      <td>4</td>\n",
       "      <td>2</td>\n",
       "      <td>1</td>\n",
       "    </tr>\n",
       "    <tr>\n",
       "      <th>2</th>\n",
       "      <td>60</td>\n",
       "      <td>56</td>\n",
       "      <td>53</td>\n",
       "      <td>44</td>\n",
       "      <td>36</td>\n",
       "      <td>22</td>\n",
       "      <td>15</td>\n",
       "      <td>11</td>\n",
       "      <td>5</td>\n",
       "    </tr>\n",
       "    <tr>\n",
       "      <th>3</th>\n",
       "      <td>67</td>\n",
       "      <td>59</td>\n",
       "      <td>46</td>\n",
       "      <td>36</td>\n",
       "      <td>28</td>\n",
       "      <td>11</td>\n",
       "      <td>10</td>\n",
       "      <td>4</td>\n",
       "      <td>1</td>\n",
       "    </tr>\n",
       "    <tr>\n",
       "      <th>4</th>\n",
       "      <td>4</td>\n",
       "      <td>3</td>\n",
       "      <td>1</td>\n",
       "      <td>1</td>\n",
       "      <td>1</td>\n",
       "      <td>0</td>\n",
       "      <td>0</td>\n",
       "      <td>0</td>\n",
       "      <td>0</td>\n",
       "    </tr>\n",
       "  </tbody>\n",
       "</table>\n",
       "</div>"
      ],
      "text/plain": [
       "   ≥ 786 kbps  ≥ 1.5 mbps  ≥ 3 mbps  ≥ 6 mbps  ≥ 10 mbps  ≥ 25 mbps  \\\n",
       "0        2172        2061      1902      1535       1257        724   \n",
       "1          22          19        18        15         11          5   \n",
       "2          60          56        53        44         36         22   \n",
       "3          67          59        46        36         28         11   \n",
       "4           4           3         1         1          1          0   \n",
       "\n",
       "   ≥ 50 mbps  ≥ 100 mbps  ≥ 1 gbps  \n",
       "0        554         375       160  \n",
       "1          4           2         1  \n",
       "2         15          11         5  \n",
       "3         10           4         1  \n",
       "4          0           0         0  "
      ]
     },
     "execution_count": 6,
     "metadata": {},
     "output_type": "execute_result"
    }
   ],
   "source": [
    "df_bis.head()"
   ]
  },
  {
   "cell_type": "markdown",
   "metadata": {},
   "source": [
    "### Run 1: Correlation Pearson - Mean"
   ]
  },
  {
   "cell_type": "code",
   "execution_count": 7,
   "metadata": {},
   "outputs": [
    {
     "name": "stdout",
     "output_type": "stream",
     "text": [
      "Please enter type of correlation: Pearson, Spearman, or Kendall: Pearson\n"
     ]
    },
    {
     "data": {
      "image/png": "[encoded data removed]",
      "text/plain": [
       "<Figure size 864x720 with 2 Axes>"
      ]
     },
     "metadata": {
      "needs_background": "light"
     },
     "output_type": "display_data"
    }
   ],
   "source": [
    "# Run Correlation Pearson\n",
    "correlation_cal(df_bis)"
   ]
  },
  {
   "cell_type": "markdown",
   "metadata": {},
   "source": [
    "### Run 2: Correlation Spearman - Mean"
   ]
  },
  {
   "cell_type": "code",
   "execution_count": 8,
   "metadata": {
    "scrolled": true
   },
   "outputs": [
    {
     "name": "stdout",
     "output_type": "stream",
     "text": [
      "Please enter type of correlation: Pearson, Spearman, or Kendall: Spearman\n"
     ]
    },
    {
     "data": {
      "image/png": "[encoded data removed]",
      "text/plain": [
       "<Figure size 864x720 with 2 Axes>"
      ]
     },
     "metadata": {
      "needs_background": "light"
     },
     "output_type": "display_data"
    }
   ],
   "source": [
    "# Run Correlation Spearman\n",
    "correlation_cal(df_bis)"
   ]
  },
  {
   "cell_type": "markdown",
   "metadata": {},
   "source": [
    "### Run 3: Correlation Kendall - Mean"
   ]
  },
  {
   "cell_type": "code",
   "execution_count": 9,
   "metadata": {},
   "outputs": [
    {
     "name": "stdout",
     "output_type": "stream",
     "text": [
      "Please enter type of correlation: Pearson, Spearman, or Kendall: Kendall\n"
     ]
    },
    {
     "data": {
      "image/png": "[encoded data removed]",
      "text/plain": [
       "<Figure size 864x720 with 2 Axes>"
      ]
     },
     "metadata": {
      "needs_background": "light"
     },
     "output_type": "display_data"
    }
   ],
   "source": [
    "# Run Correlation Kendall\n",
    "correlation_cal(df_bis)"
   ]
  },
  {
   "cell_type": "markdown",
   "metadata": {},
   "source": [
    "### Analysis - Self Assigned\n",
    "\n",
    "1/ What are the two significant correlation coefficient for Pearson, Spearman, Kendall?\n",
    "\n",
    "2/ What are other analysis we can do with these graphs?\n",
    "\n",
    "3/ Any other metric besides Pearson, Spearman, Kendall?"
   ]
  },
  {
   "cell_type": "code",
   "execution_count": null,
   "metadata": {},
   "outputs": [],
   "source": []
  }
 ],
 "metadata": {
  "kernelspec": {
   "display_name": "Python 3",
   "language": "python",
   "name": "python3"
  },
  "language_info": {
   "codemirror_mode": {
    "name": "ipython",
    "version": 3
   },
   "file_extension": ".py",
   "mimetype": "text/x-python",
   "name": "python",
   "nbconvert_exporter": "python",
   "pygments_lexer": "ipython3",
   "version": "3.7.6"
  }
 },
 "nbformat": 4,
 "nbformat_minor": 4
}
