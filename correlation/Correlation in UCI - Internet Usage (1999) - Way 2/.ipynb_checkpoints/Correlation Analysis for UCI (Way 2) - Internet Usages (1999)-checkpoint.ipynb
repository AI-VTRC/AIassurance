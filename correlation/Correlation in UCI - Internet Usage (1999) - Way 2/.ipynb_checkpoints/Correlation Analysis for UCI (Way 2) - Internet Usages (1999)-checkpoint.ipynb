{
 "cells": [
  {
   "cell_type": "markdown",
   "metadata": {},
   "source": [
    "### About: \n",
    "\n",
    "4/9/2021\n",
    "Program convert final_general.col and final_general.dat into columns then preprocess to graph a correlation heat map\n",
    "\n",
    "@Credit: Andrei @AIA"
   ]
  },
  {
   "cell_type": "code",
   "execution_count": 3,
   "metadata": {},
   "outputs": [],
   "source": [
    "import numpy as np\n",
    "from numpy.random import randn\n",
    "from numpy.random import seed\n",
    "from numpy import array_split\n",
    "import pandas as pd\n",
    "from sklearn import metrics as mt\n",
    "from sklearn import model_selection as md\n",
    "from matplotlib import pyplot as plt\n",
    "import seaborn as sns\n",
    "import sklearn.datasets as ds\n",
    "import random"
   ]
  },
  {
   "cell_type": "markdown",
   "metadata": {},
   "source": [
    "### Preprocessing"
   ]
  },
  {
   "cell_type": "code",
   "execution_count": 4,
   "metadata": {},
   "outputs": [
    {
     "name": "stdout",
     "output_type": "stream",
     "text": [
      "Correlation Analysis for UCI (Way 2) - Internet Usasge (1999).ipynb\n",
      "final_general.col\n",
      "final_general.dat\n"
     ]
    }
   ],
   "source": [
    "!ls"
   ]
  },
  {
   "cell_type": "code",
   "execution_count": 5,
   "metadata": {},
   "outputs": [
    {
     "data": {
      "text/plain": [
       "72"
      ]
     },
     "execution_count": 5,
     "metadata": {},
     "output_type": "execute_result"
    }
   ],
   "source": [
    "# Check number of character in 1 row of the dataset\n",
    "len(np.array(pd.read_fwf(\"final_general.dat\"))[0][0].split(' '))"
   ]
  },
  {
   "cell_type": "code",
   "execution_count": 6,
   "metadata": {},
   "outputs": [],
   "source": [
    "def parse_data(str, num_col=69):\n",
    "    \"\"\" Convert .txt file of feature space into a pandas csv file \"\"\"\n",
    "    data = np.array(pd.read_fwf(str))\n",
    "    observations = [[]]*len(data)\n",
    "    for i, x in enumerate(data):\n",
    "        x = x[0].split(' ')\n",
    "        features = [None]*num_col\n",
    "        for j, val in enumerate(x):\n",
    "            if val and val.isdigit() and j < num_col:\n",
    "                features[j] = int(val)\n",
    "        observations[i] = features\n",
    "    return np.array(observations)"
   ]
  },
  {
   "cell_type": "code",
   "execution_count": 7,
   "metadata": {},
   "outputs": [],
   "source": [
    "x = \"final_general.dat\"\n",
    "data = parse_data(x)\n",
    "data = [[item for item in row] for row in data]"
   ]
  },
  {
   "cell_type": "code",
   "execution_count": 11,
   "metadata": {},
   "outputs": [],
   "source": [
    "column_names = np.array(pd.read_fwf(\"final_general.col\")).T[0] #T = Transpose dimension (this case dimension 1)"
   ]
  },
  {
   "cell_type": "code",
   "execution_count": 12,
   "metadata": {},
   "outputs": [],
   "source": [
    "df = pd.DataFrame(data, columns = column_names)"
   ]
  },
  {
   "cell_type": "code",
   "execution_count": 13,
   "metadata": {},
   "outputs": [
    {
     "data": {
      "text/html": [
       "<div>\n",
       "<style scoped>\n",
       "    .dataframe tbody tr th:only-of-type {\n",
       "        vertical-align: middle;\n",
       "    }\n",
       "\n",
       "    .dataframe tbody tr th {\n",
       "        vertical-align: top;\n",
       "    }\n",
       "\n",
       "    .dataframe thead th {\n",
       "        text-align: right;\n",
       "    }\n",
       "</style>\n",
       "<table border=\"1\" class=\"dataframe\">\n",
       "  <thead>\n",
       "    <tr style=\"text-align: right;\">\n",
       "      <th></th>\n",
       "      <th>Age</th>\n",
       "      <th>Community Building</th>\n",
       "      <th>Community Membership_Family</th>\n",
       "      <th>Community Membership_Hobbies</th>\n",
       "      <th>Community Membership_None</th>\n",
       "      <th>Community Membership_Other</th>\n",
       "      <th>Community Membership_Political</th>\n",
       "      <th>Community Membership_Professional</th>\n",
       "      <th>Community Membership_Religious</th>\n",
       "      <th>Community Membership_Support</th>\n",
       "      <th>...</th>\n",
       "      <th>Web Ordering</th>\n",
       "      <th>Web Page Creation</th>\n",
       "      <th>Who Pays for Access_Don't Know</th>\n",
       "      <th>Who Pays for Access_Other</th>\n",
       "      <th>Who Pays for Access_Parents</th>\n",
       "      <th>Who Pays for Access_School</th>\n",
       "      <th>Who Pays for Access_Self</th>\n",
       "      <th>Who Pays for Access_Work</th>\n",
       "      <th>Willingness to Pay Fees</th>\n",
       "      <th>Years on Internet</th>\n",
       "    </tr>\n",
       "  </thead>\n",
       "  <tbody>\n",
       "    <tr>\n",
       "      <th>0</th>\n",
       "      <td>2</td>\n",
       "      <td>28</td>\n",
       "      <td>2</td>\n",
       "      <td>0</td>\n",
       "      <td>0</td>\n",
       "      <td>0</td>\n",
       "      <td>0</td>\n",
       "      <td>0</td>\n",
       "      <td>0</td>\n",
       "      <td>0</td>\n",
       "      <td>...</td>\n",
       "      <td>1</td>\n",
       "      <td>1</td>\n",
       "      <td>1</td>\n",
       "      <td>2</td>\n",
       "      <td>0</td>\n",
       "      <td>0</td>\n",
       "      <td>0</td>\n",
       "      <td>0.0</td>\n",
       "      <td>1.0</td>\n",
       "      <td>0.0</td>\n",
       "    </tr>\n",
       "    <tr>\n",
       "      <th>1</th>\n",
       "      <td>99</td>\n",
       "      <td>25</td>\n",
       "      <td>0</td>\n",
       "      <td>1</td>\n",
       "      <td>1</td>\n",
       "      <td>0</td>\n",
       "      <td>0</td>\n",
       "      <td>0</td>\n",
       "      <td>1</td>\n",
       "      <td>0</td>\n",
       "      <td>...</td>\n",
       "      <td>2</td>\n",
       "      <td>1</td>\n",
       "      <td>1</td>\n",
       "      <td>1</td>\n",
       "      <td>0</td>\n",
       "      <td>0</td>\n",
       "      <td>0</td>\n",
       "      <td>0.0</td>\n",
       "      <td>1.0</td>\n",
       "      <td>1.0</td>\n",
       "    </tr>\n",
       "    <tr>\n",
       "      <th>2</th>\n",
       "      <td>29</td>\n",
       "      <td>28</td>\n",
       "      <td>0</td>\n",
       "      <td>0</td>\n",
       "      <td>0</td>\n",
       "      <td>0</td>\n",
       "      <td>1</td>\n",
       "      <td>0</td>\n",
       "      <td>0</td>\n",
       "      <td>0</td>\n",
       "      <td>...</td>\n",
       "      <td>1</td>\n",
       "      <td>1</td>\n",
       "      <td>1</td>\n",
       "      <td>1</td>\n",
       "      <td>0</td>\n",
       "      <td>0</td>\n",
       "      <td>0</td>\n",
       "      <td>0.0</td>\n",
       "      <td>1.0</td>\n",
       "      <td>0.0</td>\n",
       "    </tr>\n",
       "    <tr>\n",
       "      <th>3</th>\n",
       "      <td>15</td>\n",
       "      <td>17</td>\n",
       "      <td>0</td>\n",
       "      <td>0</td>\n",
       "      <td>0</td>\n",
       "      <td>0</td>\n",
       "      <td>0</td>\n",
       "      <td>1</td>\n",
       "      <td>1</td>\n",
       "      <td>0</td>\n",
       "      <td>...</td>\n",
       "      <td>2</td>\n",
       "      <td>1</td>\n",
       "      <td>1</td>\n",
       "      <td>1</td>\n",
       "      <td>0</td>\n",
       "      <td>0</td>\n",
       "      <td>0</td>\n",
       "      <td>0.0</td>\n",
       "      <td>1.0</td>\n",
       "      <td>0.0</td>\n",
       "    </tr>\n",
       "    <tr>\n",
       "      <th>4</th>\n",
       "      <td>99</td>\n",
       "      <td>55</td>\n",
       "      <td>2</td>\n",
       "      <td>1</td>\n",
       "      <td>0</td>\n",
       "      <td>0</td>\n",
       "      <td>0</td>\n",
       "      <td>0</td>\n",
       "      <td>1</td>\n",
       "      <td>1</td>\n",
       "      <td>...</td>\n",
       "      <td>1</td>\n",
       "      <td>1</td>\n",
       "      <td>1</td>\n",
       "      <td>1</td>\n",
       "      <td>0</td>\n",
       "      <td>0</td>\n",
       "      <td>0</td>\n",
       "      <td>0.0</td>\n",
       "      <td>1.0</td>\n",
       "      <td>1.0</td>\n",
       "    </tr>\n",
       "  </tbody>\n",
       "</table>\n",
       "<p>5 rows × 69 columns</p>\n",
       "</div>"
      ],
      "text/plain": [
       "   Age  Community Building  Community Membership_Family  \\\n",
       "0    2                  28                            2   \n",
       "1   99                  25                            0   \n",
       "2   29                  28                            0   \n",
       "3   15                  17                            0   \n",
       "4   99                  55                            2   \n",
       "\n",
       "   Community Membership_Hobbies  Community Membership_None  \\\n",
       "0                             0                          0   \n",
       "1                             1                          1   \n",
       "2                             0                          0   \n",
       "3                             0                          0   \n",
       "4                             1                          0   \n",
       "\n",
       "   Community Membership_Other  Community Membership_Political  \\\n",
       "0                           0                               0   \n",
       "1                           0                               0   \n",
       "2                           0                               1   \n",
       "3                           0                               0   \n",
       "4                           0                               0   \n",
       "\n",
       "   Community Membership_Professional  Community Membership_Religious  \\\n",
       "0                                  0                               0   \n",
       "1                                  0                               1   \n",
       "2                                  0                               0   \n",
       "3                                  1                               1   \n",
       "4                                  0                               1   \n",
       "\n",
       "   Community Membership_Support  ...  Web Ordering  Web Page Creation  \\\n",
       "0                             0  ...             1                  1   \n",
       "1                             0  ...             2                  1   \n",
       "2                             0  ...             1                  1   \n",
       "3                             0  ...             2                  1   \n",
       "4                             1  ...             1                  1   \n",
       "\n",
       "   Who Pays for Access_Don't Know  Who Pays for Access_Other  \\\n",
       "0                               1                          2   \n",
       "1                               1                          1   \n",
       "2                               1                          1   \n",
       "3                               1                          1   \n",
       "4                               1                          1   \n",
       "\n",
       "   Who Pays for Access_Parents  Who Pays for Access_School  \\\n",
       "0                            0                           0   \n",
       "1                            0                           0   \n",
       "2                            0                           0   \n",
       "3                            0                           0   \n",
       "4                            0                           0   \n",
       "\n",
       "   Who Pays for Access_Self  Who Pays for Access_Work  \\\n",
       "0                         0                       0.0   \n",
       "1                         0                       0.0   \n",
       "2                         0                       0.0   \n",
       "3                         0                       0.0   \n",
       "4                         0                       0.0   \n",
       "\n",
       "   Willingness to Pay Fees  Years on Internet  \n",
       "0                      1.0                0.0  \n",
       "1                      1.0                1.0  \n",
       "2                      1.0                0.0  \n",
       "3                      1.0                0.0  \n",
       "4                      1.0                1.0  \n",
       "\n",
       "[5 rows x 69 columns]"
      ]
     },
     "execution_count": 13,
     "metadata": {},
     "output_type": "execute_result"
    }
   ],
   "source": [
    "df.head()"
   ]
  },
  {
   "cell_type": "markdown",
   "metadata": {},
   "source": [
    "### Correlation Calculation"
   ]
  },
  {
   "cell_type": "code",
   "execution_count": 22,
   "metadata": {},
   "outputs": [],
   "source": [
    "def correlation_cal(df):\n",
    "    # Instead of just dropping the missing values, we will fill in N/A values\n",
    "    if df.isna().values.any():\n",
    "        while True:\n",
    "            missing_type = input(\"Please enter the type of missnig value replacement: mean, medium, mode, or drop from the row\")\n",
    "            missing_type = missing_type.lower()\n",
    "            if(missing_type in ['mean', 'median', 'mode', 'drop']):\n",
    "                if(missing_type == 'mean'):\n",
    "                    df.fillna(df.mean(), inplace=True)\n",
    "                elif(missing_type == 'median'):\n",
    "                    df.fillna(df.median(), inplace=True)\n",
    "                elif(missing_type == 'mode'):\n",
    "                    df.fillna(df.mode(), inplace=True)\n",
    "                else:\n",
    "                    df.dropna()\n",
    "                break\n",
    "            else:\n",
    "                print(\"Please input the option from the list\")\n",
    "    \n",
    "    # Calculate input data correlation\n",
    "    while True:\n",
    "        corr_type = input(\"Please enter type of correlation: Pearson, Spearman, or Kendall: \")\n",
    "        corr_type = corr_type.lower()\n",
    "        if corr_type in ['pearson', 'spearman', 'kendall']:\n",
    "            break\n",
    "        else:\n",
    "            print(\"Please try again\")\n",
    "    \n",
    "    # Plot correlation matrix\n",
    "    corrMatrix = df.corr(method=corr_type)\n",
    "    _, ax = plt.subplots(figsize=(12, 10))\n",
    "    sns.heatmap(corrMatrix, ax = ax, cmap=\"gray\", linewidths = 0.1) # cmap can also be \"YlGnBu\""
   ]
  },
  {
   "cell_type": "markdown",
   "metadata": {},
   "source": [
    "### Run 1: Correlation Pearson"
   ]
  },
  {
   "cell_type": "code",
   "execution_count": null,
   "metadata": {},
   "outputs": [],
   "source": [
    "# Run Correlation Pearson\n",
    "correlation_cal(df)"
   ]
  },
  {
   "cell_type": "markdown",
   "metadata": {},
   "source": [
    "### Run 2: Correlation Spearman"
   ]
  },
  {
   "cell_type": "code",
   "execution_count": null,
   "metadata": {},
   "outputs": [],
   "source": [
    "# Run Correlation Spearman\n"
   ]
  },
  {
   "cell_type": "markdown",
   "metadata": {},
   "source": [
    "### Run 3: Correlation Kendall"
   ]
  },
  {
   "cell_type": "code",
   "execution_count": null,
   "metadata": {},
   "outputs": [],
   "source": [
    "# Run Correlation Kendall\n"
   ]
  }
 ],
 "metadata": {
  "kernelspec": {
   "display_name": "Python 3",
   "language": "python",
   "name": "python3"
  },
  "language_info": {
   "codemirror_mode": {
    "name": "ipython",
    "version": 3
   },
   "file_extension": ".py",
   "mimetype": "text/x-python",
   "name": "python",
   "nbconvert_exporter": "python",
   "pygments_lexer": "ipython3",
   "version": "3.7.6"
  }
 },
 "nbformat": 4,
 "nbformat_minor": 4
}
