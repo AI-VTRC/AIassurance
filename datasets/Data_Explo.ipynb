{
 "cells": [
  {
   "cell_type": "code",
   "execution_count": 2,
   "metadata": {},
   "outputs": [],
   "source": [
    "import math\n",
    "import pandas as pd\n",
    "import numpy as np"
   ]
  },
  {
   "cell_type": "code",
   "execution_count": 5,
   "metadata": {},
   "outputs": [],
   "source": [
    "law_df = pd.read_csv(\"pew_bb_law_data.csv\", encoding='latin-1')"
   ]
  },
  {
   "cell_type": "code",
   "execution_count": 6,
   "metadata": {},
   "outputs": [
    {
     "data": {
      "text/html": [
       "<div>\n",
       "<style scoped>\n",
       "    .dataframe tbody tr th:only-of-type {\n",
       "        vertical-align: middle;\n",
       "    }\n",
       "\n",
       "    .dataframe tbody tr th {\n",
       "        vertical-align: top;\n",
       "    }\n",
       "\n",
       "    .dataframe thead th {\n",
       "        text-align: right;\n",
       "    }\n",
       "</style>\n",
       "<table border=\"1\" class=\"dataframe\">\n",
       "  <thead>\n",
       "    <tr style=\"text-align: right;\">\n",
       "      <th></th>\n",
       "      <th>Unnamed: 0</th>\n",
       "      <th>Header</th>\n",
       "      <th>State</th>\n",
       "      <th>Year</th>\n",
       "      <th>Title</th>\n",
       "      <th>Category</th>\n",
       "      <th>Topic</th>\n",
       "      <th>Summary</th>\n",
       "      <th>StateCode</th>\n",
       "    </tr>\n",
       "  </thead>\n",
       "  <tbody>\n",
       "    <tr>\n",
       "      <th>0</th>\n",
       "      <td>0</td>\n",
       "      <td>Ala. Code 37-16-1 et seq.</td>\n",
       "      <td>Alabama</td>\n",
       "      <td>2019</td>\n",
       "      <td>Broadband Using Electric Easements Accessibili...</td>\n",
       "      <td>Category: Competition and regulation</td>\n",
       "      <td>Topic: Cooperatives</td>\n",
       "      <td>Allows electric utilities to also provide broa...</td>\n",
       "      <td>(a) To the extent not otherwise authorized by ...</td>\n",
       "    </tr>\n",
       "    <tr>\n",
       "      <th>1</th>\n",
       "      <td>1</td>\n",
       "      <td>Ala. Code 37-16-2</td>\n",
       "      <td>Alabama</td>\n",
       "      <td>2019</td>\n",
       "      <td>Broadband Using Electric Easements Accessibili...</td>\n",
       "      <td>Category: Other</td>\n",
       "      <td>Topic: Legislative intent</td>\n",
       "      <td>Declares that the state intends to encourage t...</td>\n",
       "      <td>(a) The Legislature finds and declares the fol...</td>\n",
       "    </tr>\n",
       "    <tr>\n",
       "      <th>2</th>\n",
       "      <td>2</td>\n",
       "      <td>Ala. Code 37-16-3</td>\n",
       "      <td>Alabama</td>\n",
       "      <td>2019</td>\n",
       "      <td>Broadband Using Electric Easements Accessibili...</td>\n",
       "      <td>Category: Definitions</td>\n",
       "      <td>Topic: Definition - Broadband (As defined by F...</td>\n",
       "      <td>Defines \"advanced communications capabilities\"...</td>\n",
       "      <td>(l) Advanced Communications Capabilities. The ...</td>\n",
       "    </tr>\n",
       "    <tr>\n",
       "      <th>3</th>\n",
       "      <td>3</td>\n",
       "      <td>Ala. Code 37-16-3</td>\n",
       "      <td>Alabama</td>\n",
       "      <td>2019</td>\n",
       "      <td>Broadband Using Electric Easements Accessibili...</td>\n",
       "      <td>Category: Definitions</td>\n",
       "      <td>Topic: Definition - Broadband (Other speed)</td>\n",
       "      <td>Defines broadband as an internet connection th...</td>\n",
       "      <td>(5) Broadband Services. The provision of conne...</td>\n",
       "    </tr>\n",
       "    <tr>\n",
       "      <th>4</th>\n",
       "      <td>4</td>\n",
       "      <td>Ala. Code 37-16-7</td>\n",
       "      <td>Alabama</td>\n",
       "      <td>2019</td>\n",
       "      <td>Broadband Using Electric Easements Accessibili...</td>\n",
       "      <td>Category: Infrastructure access</td>\n",
       "      <td>Topic: Right of way (Easements)</td>\n",
       "      <td>Specifies the terms under which a property own...</td>\n",
       "      <td>(a) If the owner of an interest in real proper...</td>\n",
       "    </tr>\n",
       "  </tbody>\n",
       "</table>\n",
       "</div>"
      ],
      "text/plain": [
       "   Unnamed: 0                     Header    State  Year  \\\n",
       "0           0  Ala. Code 37-16-1 et seq.  Alabama  2019   \n",
       "1           1          Ala. Code 37-16-2  Alabama  2019   \n",
       "2           2          Ala. Code 37-16-3  Alabama  2019   \n",
       "3           3          Ala. Code 37-16-3  Alabama  2019   \n",
       "4           4          Ala. Code 37-16-7  Alabama  2019   \n",
       "\n",
       "                                               Title  \\\n",
       "0  Broadband Using Electric Easements Accessibili...   \n",
       "1  Broadband Using Electric Easements Accessibili...   \n",
       "2  Broadband Using Electric Easements Accessibili...   \n",
       "3  Broadband Using Electric Easements Accessibili...   \n",
       "4  Broadband Using Electric Easements Accessibili...   \n",
       "\n",
       "                               Category  \\\n",
       "0  Category: Competition and regulation   \n",
       "1                       Category: Other   \n",
       "2                 Category: Definitions   \n",
       "3                 Category: Definitions   \n",
       "4       Category: Infrastructure access   \n",
       "\n",
       "                                               Topic  \\\n",
       "0                                Topic: Cooperatives   \n",
       "1                          Topic: Legislative intent   \n",
       "2  Topic: Definition - Broadband (As defined by F...   \n",
       "3        Topic: Definition - Broadband (Other speed)   \n",
       "4                    Topic: Right of way (Easements)   \n",
       "\n",
       "                                             Summary  \\\n",
       "0  Allows electric utilities to also provide broa...   \n",
       "1  Declares that the state intends to encourage t...   \n",
       "2  Defines \"advanced communications capabilities\"...   \n",
       "3  Defines broadband as an internet connection th...   \n",
       "4  Specifies the terms under which a property own...   \n",
       "\n",
       "                                           StateCode  \n",
       "0  (a) To the extent not otherwise authorized by ...  \n",
       "1  (a) The Legislature finds and declares the fol...  \n",
       "2  (l) Advanced Communications Capabilities. The ...  \n",
       "3  (5) Broadband Services. The provision of conne...  \n",
       "4  (a) If the owner of an interest in real proper...  "
      ]
     },
     "execution_count": 6,
     "metadata": {},
     "output_type": "execute_result"
    }
   ],
   "source": [
    "law_df.head()"
   ]
  },
  {
   "cell_type": "code",
   "execution_count": 9,
   "metadata": {},
   "outputs": [
    {
     "name": "stdout",
     "output_type": "stream",
     "text": [
      "(a) To the extent not otherwise authorized by law, and in addition to all other purposes, powers, and authority currently granted to electric providers under the laws of this state, an electric provider may do all of the following: É (3) Provide broadband services, whether used for or supporting utility support services or for wholesale or retail nonutility support services. (4) Allow a broadband affiliate or an unaffiliated person to provide broadband services over or through a broadband system within the electric easements of an electric provider, on such terms and conditions as specified by the electric provider, whether used for or supporting utility support services or used for or supporting wholesale or retail nonutility support services.\n"
     ]
    }
   ],
   "source": [
    "print(law_df.StateCode[0])"
   ]
  },
  {
   "cell_type": "code",
   "execution_count": 10,
   "metadata": {},
   "outputs": [
    {
     "name": "stdout",
     "output_type": "stream",
     "text": [
      "Allows electric utilities to also provide broadband services and specifies requirements that electric utilities providing broadband service must meet.\n"
     ]
    }
   ],
   "source": [
    "print(law_df.Summary[0])"
   ]
  },
  {
   "cell_type": "code",
   "execution_count": null,
   "metadata": {},
   "outputs": [],
   "source": []
  }
 ],
 "metadata": {
  "kernelspec": {
   "display_name": "Python 3",
   "language": "python",
   "name": "python3"
  },
  "language_info": {
   "codemirror_mode": {
    "name": "ipython",
    "version": 3
   },
   "file_extension": ".py",
   "mimetype": "text/x-python",
   "name": "python",
   "nbconvert_exporter": "python",
   "pygments_lexer": "ipython3",
   "version": "3.8.3"
  }
 },
 "nbformat": 4,
 "nbformat_minor": 4
}
